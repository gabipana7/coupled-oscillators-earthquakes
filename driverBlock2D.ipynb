{
 "cells": [
  {
   "cell_type": "code",
   "execution_count": 1,
   "metadata": {},
   "outputs": [],
   "source": [
    "import scipy.stats as stats\n",
    "from scipy.optimize import curve_fit\n",
    "import ast\n",
    "import matplotlib.pyplot as plt\n",
    "import numpy as np\n",
    "import math"
   ]
  },
  {
   "cell_type": "code",
   "execution_count": 87,
   "metadata": {},
   "outputs": [],
   "source": [
    "alpha = 10"
   ]
  },
  {
   "cell_type": "code",
   "execution_count": 88,
   "metadata": {},
   "outputs": [],
   "source": [
    "f = open(f\"data2D{alpha}.txt\",\"r\")\n",
    "lines = f.readlines()"
   ]
  },
  {
   "cell_type": "code",
   "execution_count": 89,
   "metadata": {},
   "outputs": [],
   "source": [
    "histlist=[]\n",
    "for item in lines:\n",
    "    histlist.append(ast.literal_eval(item))"
   ]
  },
  {
   "cell_type": "code",
   "execution_count": 90,
   "metadata": {},
   "outputs": [
    {
     "data": {
      "text/plain": [
       "164"
      ]
     },
     "execution_count": 90,
     "metadata": {},
     "output_type": "execute_result"
    }
   ],
   "source": [
    "round(math.sqrt(len(histlist)))"
   ]
  },
  {
   "cell_type": "code",
   "execution_count": 91,
   "metadata": {},
   "outputs": [
    {
     "data": {
      "text/plain": [
       "[265.0,\n",
       " 264.0,\n",
       " 294.0,\n",
       " 313.0,\n",
       " 283.0,\n",
       " 286.0,\n",
       " 295.0,\n",
       " 295.0,\n",
       " 291.0,\n",
       " 298.0,\n",
       " 245.0,\n",
       " 318.0,\n",
       " 324.0,\n",
       " 331.0,\n",
       " 320.0,\n",
       " 0.0,\n",
       " 291.0,\n",
       " 279.0,\n",
       " 292.0,\n",
       " 294.0,\n",
       " 285.0,\n",
       " 249.0,\n",
       " 188.0,\n",
       " 0.0,\n",
       " 273.0,\n",
       " 273.0,\n",
       " 250.0,\n",
       " 216.0,\n",
       " 195.0,\n",
       " 218.0,\n",
       " 275.0,\n",
       " 281.0,\n",
       " 0.0,\n",
       " 320.0,\n",
       " 276.0,\n",
       " 308.0,\n",
       " 307.0,\n",
       " 275.0,\n",
       " 308.0,\n",
       " 308.0,\n",
       " 269.0,\n",
       " 309.0,\n",
       " 334.0,\n",
       " 320.0,\n",
       " 334.0,\n",
       " 229.0,\n",
       " 313.0,\n",
       " 308.0,\n",
       " 313.0,\n",
       " 285.0,\n",
       " 297.0,\n",
       " 263.0,\n",
       " 286.0,\n",
       " 287.0,\n",
       " 264.0,\n",
       " 277.0,\n",
       " 0.0,\n",
       " 0.0,\n",
       " 228.0,\n",
       " 221.0,\n",
       " 304.0,\n",
       " 310.0,\n",
       " 322.0,\n",
       " 290.0,\n",
       " 280.0,\n",
       " 0.0,\n",
       " 0.0,\n",
       " 264.0,\n",
       " 305.0,\n",
       " 235.0,\n",
       " 0.0,\n",
       " 325.0,\n",
       " 0.0,\n",
       " 340.0,\n",
       " 0.0,\n",
       " 297.0,\n",
       " 259.0,\n",
       " 312.0,\n",
       " 316.0,\n",
       " 0.0,\n",
       " 0.0,\n",
       " 247.0,\n",
       " 266.0,\n",
       " 283.0,\n",
       " 288.0,\n",
       " 236.0,\n",
       " 274.0,\n",
       " 235.0,\n",
       " 0.0,\n",
       " 201.0,\n",
       " 304.0,\n",
       " 300.0,\n",
       " 325.0,\n",
       " 306.0,\n",
       " 313.0,\n",
       " 269.0,\n",
       " 282.0,\n",
       " 278.0,\n",
       " 0.0,\n",
       " 304.0,\n",
       " 0.0,\n",
       " 357.0,\n",
       " 353.0,\n",
       " 313.0,\n",
       " 0.0,\n",
       " 294.0,\n",
       " 320.0,\n",
       " 222.0,\n",
       " 313.0,\n",
       " 315.0,\n",
       " 259.0,\n",
       " 0.0,\n",
       " 177.0,\n",
       " 275.0,\n",
       " 277.0,\n",
       " 0.0,\n",
       " 243.0,\n",
       " 0.0,\n",
       " 230.0,\n",
       " 215.0,\n",
       " 268.0,\n",
       " 322.0,\n",
       " 321.0,\n",
       " 323.0,\n",
       " 0.0,\n",
       " 265.0,\n",
       " 314.0,\n",
       " 297.0,\n",
       " 319.0,\n",
       " 321.0,\n",
       " 297.0,\n",
       " 358.0,\n",
       " 329.0,\n",
       " 351.0,\n",
       " 337.0,\n",
       " 0.0,\n",
       " 313.0,\n",
       " 258.0,\n",
       " 328.0,\n",
       " 296.0,\n",
       " 318.0,\n",
       " 312.0,\n",
       " 278.0,\n",
       " 0.0,\n",
       " 274.0,\n",
       " 243.0,\n",
       " 285.0,\n",
       " 267.0,\n",
       " 265.0,\n",
       " 244.0,\n",
       " 293.0,\n",
       " 306.0,\n",
       " 0.0,\n",
       " 314.0,\n",
       " 327.0,\n",
       " 269.0,\n",
       " 329.0,\n",
       " 258.0,\n",
       " 314.0,\n",
       " 335.0,\n",
       " 337.0,\n",
       " 321.0,\n",
       " 349.0,\n",
       " 341.0,\n",
       " 329.0,\n",
       " 306.0,\n",
       " 0.0,\n",
       " 328.0,\n",
       " 263.0,\n",
       " 329.0,\n",
       " 325.0,\n",
       " 330.0,\n",
       " 323.0,\n",
       " 310.0,\n",
       " 0.0,\n",
       " 293.0,\n",
       " 292.0,\n",
       " 297.0,\n",
       " 249.0,\n",
       " 0.0,\n",
       " 264.0,\n",
       " 287.0,\n",
       " 0.0,\n",
       " 330.0,\n",
       " 338.0,\n",
       " 0.0,\n",
       " 318.0,\n",
       " 291.0,\n",
       " 334.0,\n",
       " 331.0,\n",
       " 351.0,\n",
       " 350.0,\n",
       " 330.0,\n",
       " 187.0,\n",
       " 0.0,\n",
       " 262.0,\n",
       " 0.0,\n",
       " 336.0,\n",
       " 337.0,\n",
       " 345.0,\n",
       " 338.0,\n",
       " 327.0,\n",
       " 247.0,\n",
       " 320.0,\n",
       " 275.0,\n",
       " 307.0,\n",
       " 297.0,\n",
       " 298.0,\n",
       " 289.0,\n",
       " 241.0,\n",
       " 232.0,\n",
       " 0.0,\n",
       " 251.0,\n",
       " 319.0,\n",
       " 329.0,\n",
       " 253.0,\n",
       " 334.0,\n",
       " 337.0,\n",
       " 307.0,\n",
       " 347.0,\n",
       " 295.0,\n",
       " 126.0,\n",
       " 329.0,\n",
       " 311.0,\n",
       " 302.0,\n",
       " 311.0,\n",
       " 324.0,\n",
       " 209.0,\n",
       " 0.0,\n",
       " 268.0,\n",
       " 269.0,\n",
       " 0.0,\n",
       " 329.0,\n",
       " 319.0,\n",
       " 312.0,\n",
       " 191.0,\n",
       " 0.0,\n",
       " 296.0,\n",
       " 224.0,\n",
       " 225.0,\n",
       " 286.0,\n",
       " 128.0,\n",
       " 0.0,\n",
       " 272.0,\n",
       " 307.0,\n",
       " 0.0,\n",
       " 307.0,\n",
       " 334.0,\n",
       " 346.0,\n",
       " 306.0,\n",
       " 347.0,\n",
       " 300.0,\n",
       " 324.0,\n",
       " 307.0,\n",
       " 288.0,\n",
       " 0.0,\n",
       " 332.0,\n",
       " 344.0,\n",
       " 345.0,\n",
       " 317.0,\n",
       " 333.0,\n",
       " 319.0,\n",
       " 325.0,\n",
       " 321.0,\n",
       " 279.0,\n",
       " 303.0,\n",
       " 0.0,\n",
       " 290.0,\n",
       " 0.0,\n",
       " 235.0,\n",
       " 269.0,\n",
       " 308.0,\n",
       " 99.0,\n",
       " 292.0,\n",
       " 143.0,\n",
       " 287.0,\n",
       " 94.0,\n",
       " 333.0,\n",
       " 343.0,\n",
       " 339.0,\n",
       " 338.0,\n",
       " 329.0,\n",
       " 303.0,\n",
       " 297.0,\n",
       " 290.0,\n",
       " 315.0,\n",
       " 328.0,\n",
       " 0.0,\n",
       " 344.0,\n",
       " 284.0,\n",
       " 329.0,\n",
       " 308.0,\n",
       " 281.0,\n",
       " 322.0,\n",
       " 305.0,\n",
       " 290.0,\n",
       " 279.0,\n",
       " 274.0,\n",
       " 284.0,\n",
       " 266.0,\n",
       " 313.0,\n",
       " 303.0,\n",
       " 300.0,\n",
       " 242.0,\n",
       " 282.0,\n",
       " 280.0,\n",
       " 278.0,\n",
       " 282.0,\n",
       " 322.0,\n",
       " 300.0,\n",
       " 322.0,\n",
       " 248.0,\n",
       " 0.0,\n",
       " 268.0,\n",
       " 0.0,\n",
       " 272.0,\n",
       " 338.0,\n",
       " 340.0,\n",
       " 342.0,\n",
       " 327.0,\n",
       " 302.0,\n",
       " 323.0,\n",
       " 317.0,\n",
       " 260.0,\n",
       " 190.0,\n",
       " 280.0,\n",
       " 288.0,\n",
       " 278.0,\n",
       " 239.0,\n",
       " 138.0,\n",
       " 312.0,\n",
       " 279.0,\n",
       " 236.0,\n",
       " 248.0,\n",
       " 235.0,\n",
       " 0.0,\n",
       " 276.0,\n",
       " 0.0,\n",
       " 297.0,\n",
       " 290.0,\n",
       " 123.0,\n",
       " 305.0,\n",
       " 300.0,\n",
       " 304.0,\n",
       " 289.0,\n",
       " 313.0,\n",
       " 86.0,\n",
       " 334.0,\n",
       " 339.0,\n",
       " 332.0,\n",
       " 274.0,\n",
       " 313.0,\n",
       " 322.0,\n",
       " 282.0,\n",
       " 0.0,\n",
       " 314.0,\n",
       " 308.0,\n",
       " 300.0,\n",
       " 281.0,\n",
       " 256.0,\n",
       " 284.0,\n",
       " 142.0,\n",
       " 319.0,\n",
       " 0.0,\n",
       " 249.0,\n",
       " 251.0,\n",
       " 252.0,\n",
       " 268.0,\n",
       " 262.0,\n",
       " 292.0,\n",
       " 287.0,\n",
       " 245.0,\n",
       " 299.0,\n",
       " 291.0,\n",
       " 307.0,\n",
       " 297.0,\n",
       " 323.0,\n",
       " 343.0,\n",
       " 312.0,\n",
       " 347.0,\n",
       " 310.0,\n",
       " 333.0,\n",
       " 315.0,\n",
       " 273.0,\n",
       " 305.0,\n",
       " 310.0,\n",
       " 267.0,\n",
       " 44.0,\n",
       " 287.0,\n",
       " 0.0,\n",
       " 320.0,\n",
       " 325.0,\n",
       " 287.0,\n",
       " 244.0,\n",
       " 245.0,\n",
       " 283.0,\n",
       " 275.0,\n",
       " 0.0,\n",
       " 262.0,\n",
       " 206.0,\n",
       " 292.0,\n",
       " 284.0,\n",
       " 294.0,\n",
       " 315.0,\n",
       " 0.0,\n",
       " 312.0,\n",
       " 0.0,\n",
       " 313.0,\n",
       " 348.0,\n",
       " 210.0,\n",
       " 323.0,\n",
       " 332.0,\n",
       " 324.0,\n",
       " 274.0,\n",
       " 210.0,\n",
       " 297.0,\n",
       " 305.0,\n",
       " 270.0,\n",
       " 251.0,\n",
       " 268.0,\n",
       " 313.0,\n",
       " 312.0,\n",
       " 311.0,\n",
       " 266.0,\n",
       " 279.0,\n",
       " 235.0,\n",
       " 252.0,\n",
       " 263.0,\n",
       " 0.0,\n",
       " 285.0,\n",
       " 125.0,\n",
       " 281.0,\n",
       " 299.0,\n",
       " 223.0,\n",
       " 336.0,\n",
       " 334.0,\n",
       " 346.0,\n",
       " 251.0,\n",
       " 357.0,\n",
       " 0.0,\n",
       " 315.0,\n",
       " 326.0,\n",
       " 331.0,\n",
       " 320.0,\n",
       " 304.0,\n",
       " 301.0,\n",
       " 286.0,\n",
       " 271.0,\n",
       " 302.0,\n",
       " 262.0,\n",
       " 294.0,\n",
       " 298.0,\n",
       " 292.0,\n",
       " 0.0,\n",
       " 104.0,\n",
       " 268.0,\n",
       " 0.0,\n",
       " 272.0,\n",
       " 254.0,\n",
       " 268.0,\n",
       " 281.0,\n",
       " 273.0,\n",
       " 308.0,\n",
       " 322.0,\n",
       " 296.0,\n",
       " 0.0,\n",
       " 322.0,\n",
       " 354.0,\n",
       " 335.0,\n",
       " 352.0,\n",
       " 338.0,\n",
       " 0.0,\n",
       " 315.0,\n",
       " 302.0,\n",
       " 297.0,\n",
       " 317.0,\n",
       " 0.0,\n",
       " 0.0,\n",
       " 290.0,\n",
       " 0.0,\n",
       " 271.0,\n",
       " 205.0,\n",
       " 308.0,\n",
       " 307.0,\n",
       " 307.0,\n",
       " 265.0,\n",
       " 282.0,\n",
       " 259.0,\n",
       " 0.0,\n",
       " 280.0,\n",
       " 278.0,\n",
       " 278.0,\n",
       " 0.0,\n",
       " 322.0,\n",
       " 323.0,\n",
       " 331.0,\n",
       " 336.0,\n",
       " 333.0,\n",
       " 274.0,\n",
       " 310.0,\n",
       " 344.0,\n",
       " 327.0,\n",
       " 309.0,\n",
       " 259.0,\n",
       " 293.0,\n",
       " 280.0,\n",
       " 316.0,\n",
       " 319.0,\n",
       " 327.0,\n",
       " 289.0,\n",
       " 287.0,\n",
       " 268.0,\n",
       " 233.0,\n",
       " 316.0,\n",
       " 315.0,\n",
       " 302.0,\n",
       " 287.0,\n",
       " 285.0,\n",
       " 0.0,\n",
       " 275.0,\n",
       " 294.0,\n",
       " 247.0,\n",
       " 0.0,\n",
       " 188.0,\n",
       " 331.0,\n",
       " 334.0,\n",
       " 302.0,\n",
       " 313.0,\n",
       " 0.0,\n",
       " 329.0,\n",
       " 340.0,\n",
       " 336.0,\n",
       " 329.0,\n",
       " 318.0,\n",
       " 276.0,\n",
       " 318.0,\n",
       " 321.0,\n",
       " 261.0,\n",
       " 294.0,\n",
       " 298.0,\n",
       " 253.0,\n",
       " 308.0,\n",
       " 278.0,\n",
       " 302.0,\n",
       " 280.0,\n",
       " 291.0,\n",
       " 265.0,\n",
       " 295.0,\n",
       " 261.0,\n",
       " 298.0,\n",
       " 153.0,\n",
       " 264.0,\n",
       " 302.0,\n",
       " 325.0,\n",
       " 327.0,\n",
       " 323.0,\n",
       " 258.0,\n",
       " 0.0,\n",
       " 0.0,\n",
       " 231.0,\n",
       " 284.0,\n",
       " 324.0,\n",
       " 286.0,\n",
       " 294.0,\n",
       " 317.0,\n",
       " 321.0,\n",
       " 239.0,\n",
       " 271.0,\n",
       " 308.0,\n",
       " 0.0,\n",
       " 280.0,\n",
       " 314.0,\n",
       " 304.0,\n",
       " 216.0,\n",
       " 300.0,\n",
       " 284.0,\n",
       " 279.0,\n",
       " 270.0,\n",
       " 0.0,\n",
       " 289.0,\n",
       " 288.0,\n",
       " 286.0,\n",
       " 280.0,\n",
       " 263.0,\n",
       " 243.0,\n",
       " 294.0,\n",
       " 0.0,\n",
       " 254.0,\n",
       " 291.0,\n",
       " 315.0,\n",
       " 307.0,\n",
       " 0.0,\n",
       " 265.0,\n",
       " 300.0,\n",
       " 0.0,\n",
       " 0.0,\n",
       " 0.0,\n",
       " 236.0,\n",
       " 153.0,\n",
       " 277.0,\n",
       " 281.0,\n",
       " 306.0,\n",
       " 312.0,\n",
       " 0.0,\n",
       " 278.0,\n",
       " 305.0,\n",
       " 293.0,\n",
       " 0.0,\n",
       " 293.0,\n",
       " 275.0,\n",
       " 214.0,\n",
       " 295.0,\n",
       " 309.0,\n",
       " 300.0,\n",
       " 319.0,\n",
       " 293.0,\n",
       " 217.0,\n",
       " 274.0,\n",
       " 291.0,\n",
       " 307.0,\n",
       " 303.0,\n",
       " 295.0,\n",
       " 316.0,\n",
       " 329.0,\n",
       " 225.0,\n",
       " 312.0,\n",
       " 324.0,\n",
       " 324.0,\n",
       " 293.0,\n",
       " 304.0,\n",
       " 306.0,\n",
       " 335.0,\n",
       " 279.0,\n",
       " 211.0,\n",
       " 317.0,\n",
       " 0.0,\n",
       " 285.0,\n",
       " 292.0,\n",
       " 302.0,\n",
       " 301.0,\n",
       " 272.0,\n",
       " 276.0,\n",
       " 303.0,\n",
       " 312.0,\n",
       " 315.0,\n",
       " 307.0,\n",
       " 287.0,\n",
       " 293.0,\n",
       " 270.0,\n",
       " 278.0,\n",
       " 303.0,\n",
       " 278.0,\n",
       " 328.0,\n",
       " 332.0,\n",
       " 292.0,\n",
       " 219.0,\n",
       " 338.0,\n",
       " 254.0,\n",
       " 328.0,\n",
       " 231.0,\n",
       " 0.0,\n",
       " 341.0,\n",
       " 338.0,\n",
       " 182.0,\n",
       " 336.0,\n",
       " 282.0,\n",
       " 0.0,\n",
       " 227.0,\n",
       " 270.0,\n",
       " 216.0,\n",
       " 267.0,\n",
       " 0.0,\n",
       " 288.0,\n",
       " 303.0,\n",
       " 0.0,\n",
       " 273.0,\n",
       " 308.0,\n",
       " 311.0,\n",
       " 316.0,\n",
       " 320.0,\n",
       " 0.0,\n",
       " 7.0,\n",
       " 173.0,\n",
       " 323.0,\n",
       " 304.0,\n",
       " 335.0,\n",
       " 284.0,\n",
       " 331.0,\n",
       " 285.0,\n",
       " 301.0,\n",
       " 274.0,\n",
       " 333.0,\n",
       " 341.0,\n",
       " 336.0,\n",
       " 286.0,\n",
       " 278.0,\n",
       " 316.0,\n",
       " 275.0,\n",
       " 307.0,\n",
       " 211.0,\n",
       " 0.0,\n",
       " 278.0,\n",
       " 210.0,\n",
       " 260.0,\n",
       " 156.0,\n",
       " 306.0,\n",
       " 310.0,\n",
       " 288.0,\n",
       " 319.0,\n",
       " 317.0,\n",
       " 283.0,\n",
       " 289.0,\n",
       " 302.0,\n",
       " 241.0,\n",
       " 0.0,\n",
       " 309.0,\n",
       " 300.0,\n",
       " 0.0,\n",
       " 227.0,\n",
       " 283.0,\n",
       " 288.0,\n",
       " 292.0,\n",
       " 332.0,\n",
       " 322.0,\n",
       " 300.0,\n",
       " 213.0,\n",
       " 331.0,\n",
       " 327.0,\n",
       " 289.0,\n",
       " 298.0,\n",
       " 287.0,\n",
       " 294.0,\n",
       " 284.0,\n",
       " 273.0,\n",
       " 267.0,\n",
       " 307.0,\n",
       " 295.0,\n",
       " 291.0,\n",
       " 303.0,\n",
       " 289.0,\n",
       " 329.0,\n",
       " 305.0,\n",
       " 289.0,\n",
       " 280.0,\n",
       " 293.0,\n",
       " 281.0,\n",
       " 0.0,\n",
       " 254.0,\n",
       " 244.0,\n",
       " 283.0,\n",
       " 286.0,\n",
       " 318.0,\n",
       " 283.0,\n",
       " 298.0,\n",
       " 332.0,\n",
       " 310.0,\n",
       " 300.0,\n",
       " 230.0,\n",
       " 328.0,\n",
       " 295.0,\n",
       " 297.0,\n",
       " 294.0,\n",
       " 287.0,\n",
       " 280.0,\n",
       " 0.0,\n",
       " 268.0,\n",
       " 307.0,\n",
       " 268.0,\n",
       " 312.0,\n",
       " 333.0,\n",
       " 251.0,\n",
       " 275.0,\n",
       " 264.0,\n",
       " 304.0,\n",
       " 277.0,\n",
       " 290.0,\n",
       " 0.0,\n",
       " 0.0,\n",
       " 288.0,\n",
       " 288.0,\n",
       " 280.0,\n",
       " 138.0,\n",
       " 279.0,\n",
       " 0.0,\n",
       " 318.0,\n",
       " 294.0,\n",
       " 139.0,\n",
       " 312.0,\n",
       " 327.0,\n",
       " 270.0,\n",
       " 289.0,\n",
       " 271.0,\n",
       " 278.0,\n",
       " 297.0,\n",
       " 271.0,\n",
       " 289.0,\n",
       " 304.0,\n",
       " 293.0,\n",
       " 265.0,\n",
       " 245.0,\n",
       " 325.0,\n",
       " 309.0,\n",
       " 295.0,\n",
       " 282.0,\n",
       " 324.0,\n",
       " 268.0,\n",
       " 274.0,\n",
       " 0.0,\n",
       " 244.0,\n",
       " 267.0,\n",
       " 257.0,\n",
       " 291.0,\n",
       " 292.0,\n",
       " 266.0,\n",
       " 315.0,\n",
       " 315.0,\n",
       " 0.0,\n",
       " 317.0,\n",
       " 285.0,\n",
       " 285.0,\n",
       " 0.0,\n",
       " 224.0,\n",
       " 294.0,\n",
       " 299.0,\n",
       " 261.0,\n",
       " 213.0,\n",
       " 141.0,\n",
       " 268.0,\n",
       " 306.0,\n",
       " 321.0,\n",
       " 326.0,\n",
       " 323.0,\n",
       " 308.0,\n",
       " 127.0,\n",
       " 317.0,\n",
       " 288.0,\n",
       " 307.0,\n",
       " 202.0,\n",
       " 199.0,\n",
       " 300.0,\n",
       " 188.0,\n",
       " 256.0,\n",
       " 227.0,\n",
       " 141.0,\n",
       " 259.0,\n",
       " 301.0,\n",
       " 246.0,\n",
       " 280.0,\n",
       " 313.0,\n",
       " 276.0,\n",
       " 281.0,\n",
       " 285.0,\n",
       " 263.0,\n",
       " 293.0,\n",
       " 302.0,\n",
       " 296.0,\n",
       " 294.0,\n",
       " 268.0,\n",
       " 0.0,\n",
       " 0.0,\n",
       " 319.0,\n",
       " 310.0,\n",
       " 0.0,\n",
       " 293.0,\n",
       " 297.0,\n",
       " 308.0,\n",
       " 294.0,\n",
       " 305.0,\n",
       " 276.0,\n",
       " 277.0,\n",
       " 0.0,\n",
       " 236.0,\n",
       " 254.0,\n",
       " 221.0,\n",
       " 224.0,\n",
       " 158.0,\n",
       " 271.0,\n",
       " 298.0,\n",
       " 210.0,\n",
       " 288.0,\n",
       " 277.0,\n",
       " 244.0,\n",
       " 281.0,\n",
       " 283.0,\n",
       " 0.0,\n",
       " 280.0,\n",
       " 282.0,\n",
       " 269.0,\n",
       " 256.0,\n",
       " 224.0,\n",
       " 295.0,\n",
       " 303.0,\n",
       " 283.0,\n",
       " 286.0,\n",
       " 262.0,\n",
       " 283.0,\n",
       " 277.0,\n",
       " 216.0,\n",
       " 242.0,\n",
       " 272.0,\n",
       " 260.0,\n",
       " 290.0,\n",
       " 307.0,\n",
       " 305.0,\n",
       " 279.0,\n",
       " 317.0,\n",
       " 308.0,\n",
       " 281.0,\n",
       " 311.0,\n",
       " 312.0,\n",
       " 333.0,\n",
       " 314.0,\n",
       " 346.0,\n",
       " 329.0,\n",
       " 337.0,\n",
       " 306.0,\n",
       " 314.0,\n",
       " 0.0,\n",
       " 312.0,\n",
       " 277.0,\n",
       " 300.0,\n",
       " 297.0,\n",
       " 284.0,\n",
       " 273.0,\n",
       " 283.0,\n",
       " 271.0,\n",
       " 274.0,\n",
       " 39.0,\n",
       " 211.0,\n",
       " 244.0,\n",
       " 300.0,\n",
       " 0.0,\n",
       " 315.0,\n",
       " 336.0,\n",
       " 323.0,\n",
       " 324.0,\n",
       " 281.0,\n",
       " 313.0,\n",
       " 184.0,\n",
       " 322.0,\n",
       " 340.0,\n",
       " 0.0,\n",
       " 358.0,\n",
       " 357.0,\n",
       " 349.0,\n",
       " 328.0,\n",
       " 313.0,\n",
       " 266.0,\n",
       " 326.0,\n",
       " 114.0,\n",
       " 316.0,\n",
       " 316.0,\n",
       " 281.0,\n",
       " 288.0,\n",
       " 264.0,\n",
       " 303.0,\n",
       " 247.0,\n",
       " 273.0,\n",
       " 194.0,\n",
       " 227.0,\n",
       " 284.0,\n",
       " 243.0,\n",
       " 334.0,\n",
       " 271.0,\n",
       " 334.0,\n",
       " 308.0,\n",
       " 304.0,\n",
       " 305.0,\n",
       " 320.0,\n",
       " 311.0,\n",
       " 347.0,\n",
       " 241.0,\n",
       " 187.0,\n",
       " 363.0,\n",
       " 300.0,\n",
       " 0.0,\n",
       " 319.0,\n",
       " 0.0,\n",
       " 327.0,\n",
       " 321.0,\n",
       " 205.0,\n",
       " 266.0,\n",
       " 306.0,\n",
       " 0.0,\n",
       " 290.0,\n",
       " 197.0,\n",
       " 282.0,\n",
       " 138.0,\n",
       " 254.0,\n",
       " 0.0,\n",
       " 307.0,\n",
       " 262.0,\n",
       " 296.0,\n",
       " 0.0,\n",
       " 235.0,\n",
       " 0.0,\n",
       " 0.0,\n",
       " 0.0,\n",
       " 0.0,\n",
       " 319.0,\n",
       " ...]"
      ]
     },
     "execution_count": 91,
     "metadata": {},
     "output_type": "execute_result"
    }
   ],
   "source": [
    "histlist"
   ]
  },
  {
   "cell_type": "code",
   "execution_count": 92,
   "metadata": {},
   "outputs": [],
   "source": [
    "for item in histlist:\n",
    "    if item == 0.0:\n",
    "        histlist.remove(item)\n",
    "        \n",
    "for item in histlist:\n",
    "    if item == 0.0:\n",
    "        histlist.remove(item)\n",
    "        \n",
    "for item in histlist:\n",
    "    if item == 0.0:\n",
    "        histlist.remove(item)"
   ]
  },
  {
   "cell_type": "code",
   "execution_count": 93,
   "metadata": {},
   "outputs": [
    {
     "data": {
      "image/png": "[encoded data removed]",
      "text/plain": [
       "<Figure size 432x288 with 1 Axes>"
      ]
     },
     "metadata": {
      "needs_background": "light"
     },
     "output_type": "display_data"
    }
   ],
   "source": [
    "hist, bins, patches = plt.hist(histlist,bins=50);"
   ]
  },
  {
   "cell_type": "code",
   "execution_count": 94,
   "metadata": {},
   "outputs": [],
   "source": [
    "x = np.zeros_like(hist.astype(float))\n",
    "for i in range(1,len(bins)):\n",
    "    x[i-1]=((bins[i]+bins[i-1])/2)\n",
    "y = hist"
   ]
  },
  {
   "cell_type": "code",
   "execution_count": 95,
   "metadata": {},
   "outputs": [],
   "source": [
    "x = x[20:]"
   ]
  },
  {
   "cell_type": "code",
   "execution_count": 96,
   "metadata": {},
   "outputs": [],
   "source": [
    "y = y[20:]"
   ]
  },
  {
   "cell_type": "code",
   "execution_count": 97,
   "metadata": {},
   "outputs": [
    {
     "data": {
      "text/plain": [
       "22687"
      ]
     },
     "execution_count": 97,
     "metadata": {},
     "output_type": "execute_result"
    }
   ],
   "source": [
    "len(histlist)"
   ]
  },
  {
   "cell_type": "code",
   "execution_count": 98,
   "metadata": {},
   "outputs": [
    {
     "data": {
      "text/plain": [
       "30"
      ]
     },
     "execution_count": 98,
     "metadata": {},
     "output_type": "execute_result"
    }
   ],
   "source": [
    "len(x)"
   ]
  },
  {
   "cell_type": "code",
   "execution_count": 99,
   "metadata": {},
   "outputs": [
    {
     "data": {
      "text/plain": [
       "30"
      ]
     },
     "execution_count": 99,
     "metadata": {},
     "output_type": "execute_result"
    }
   ],
   "source": [
    "len(y)"
   ]
  },
  {
   "cell_type": "code",
   "execution_count": 100,
   "metadata": {},
   "outputs": [
    {
     "data": {
      "text/plain": [
       "<matplotlib.collections.PathCollection at 0x7ff6ba89f670>"
      ]
     },
     "execution_count": 100,
     "metadata": {},
     "output_type": "execute_result"
    },
    {
     "data": {
      "image/png": "[encoded data removed]",
      "text/plain": [
       "<Figure size 432x288 with 1 Axes>"
      ]
     },
     "metadata": {
      "needs_background": "light"
     },
     "output_type": "display_data"
    }
   ],
   "source": [
    "plt.scatter(x,y)"
   ]
  },
  {
   "cell_type": "code",
   "execution_count": null,
   "metadata": {},
   "outputs": [],
   "source": []
  },
  {
   "cell_type": "code",
   "execution_count": null,
   "metadata": {},
   "outputs": [],
   "source": []
  },
  {
   "cell_type": "code",
   "execution_count": 101,
   "metadata": {},
   "outputs": [
    {
     "data": {
      "image/png": "[encoded data removed]",
      "text/plain": [
       "<Figure size 432x288 with 1 Axes>"
      ]
     },
     "metadata": {
      "needs_background": "light"
     },
     "output_type": "display_data"
    }
   ],
   "source": [
    "plt.hist(histlist, bins=50);"
   ]
  },
  {
   "cell_type": "code",
   "execution_count": 102,
   "metadata": {},
   "outputs": [
    {
     "data": {
      "text/plain": [
       "'\\ndef maxFit(x,a,b):\\n    return b * x**2 * np.exp(-x**2/(2*a**2)) / a**3\\n\\npopt, pcov = curve_fit(maxFit,x,y,maxfev=10000)\\n\\n'"
      ]
     },
     "execution_count": 102,
     "metadata": {},
     "output_type": "execute_result"
    }
   ],
   "source": [
    "'''\n",
    "def maxFit(x,a,b):\n",
    "    return b * x**2 * np.exp(-x**2/(2*a**2)) / a**3\n",
    "\n",
    "popt, pcov = curve_fit(maxFit,x,y,maxfev=10000)\n",
    "\n",
    "'''"
   ]
  },
  {
   "cell_type": "code",
   "execution_count": null,
   "metadata": {},
   "outputs": [],
   "source": []
  },
  {
   "cell_type": "code",
   "execution_count": null,
   "metadata": {},
   "outputs": [],
   "source": []
  },
  {
   "cell_type": "code",
   "execution_count": 103,
   "metadata": {},
   "outputs": [
    {
     "name": "stdout",
     "output_type": "stream",
     "text": [
      "(321.9631303686203, 32.15380504865411)\n"
     ]
    },
    {
     "data": {
      "image/png": "[encoded data removed]",
      "text/plain": [
       "<Figure size 432x288 with 1 Axes>"
      ]
     },
     "metadata": {
      "needs_background": "light"
     },
     "output_type": "display_data"
    }
   ],
   "source": [
    "# GUMBEL FIT \n",
    "\n",
    "param = stats.gumbel_l.fit(histlist)\n",
    "print(param)\n",
    "\n",
    "plt.hist(histlist,bins=50,density=True)\n",
    "plt.plot(x, stats.gumbel_l.pdf(x,*param), lw=3,label=f\"loc={round(param[0],4)}\\n scale={round(param[1],4)}\")\n",
    "\n",
    "plt.legend()\n",
    "\n",
    "plt.savefig(f\"histogram2D{alpha}_gumbel.png\")\n",
    "plt.show()"
   ]
  },
  {
   "cell_type": "code",
   "execution_count": null,
   "metadata": {},
   "outputs": [],
   "source": []
  },
  {
   "cell_type": "code",
   "execution_count": null,
   "metadata": {},
   "outputs": [],
   "source": []
  },
  {
   "cell_type": "code",
   "execution_count": 104,
   "metadata": {},
   "outputs": [
    {
     "name": "stdout",
     "output_type": "stream",
     "text": [
      "(-0.10476921883383888, 176.73060422406246)\n"
     ]
    },
    {
     "data": {
      "image/png": "[encoded data removed]",
      "text/plain": [
       "<Figure size 432x288 with 1 Axes>"
      ]
     },
     "metadata": {
      "needs_background": "light"
     },
     "output_type": "display_data"
    }
   ],
   "source": [
    "#MAXWELL FIT \n",
    "\n",
    "maxwell = stats.maxwell\n",
    "\n",
    "params = maxwell.fit(histlist)\n",
    "print(params)\n",
    "\n",
    "\n",
    "#weights = np.ones_like(histlist) / len(histlist)\n",
    "plt.hist(histlist,bins=50,density=True)# weights=weights)\n",
    "plt.plot(x, maxwell.pdf(x,*param), lw=3,label=f\"loc={round(params[0],4)}\\n scale={round(params[1],4)}\")\n",
    "\n",
    "plt.legend()\n",
    "plt.savefig(f\"histogram2D{alpha}_maxwell.png\")\n",
    "plt.show()"
   ]
  },
  {
   "cell_type": "code",
   "execution_count": null,
   "metadata": {},
   "outputs": [],
   "source": []
  },
  {
   "cell_type": "code",
   "execution_count": null,
   "metadata": {},
   "outputs": [],
   "source": []
  },
  {
   "cell_type": "code",
   "execution_count": null,
   "metadata": {},
   "outputs": [],
   "source": []
  },
  {
   "cell_type": "code",
   "execution_count": 105,
   "metadata": {},
   "outputs": [
    {
     "name": "stdout",
     "output_type": "stream",
     "text": [
      "(-0.06219695986131031, 5.013962035811457)\n"
     ]
    },
    {
     "data": {
      "image/png": "[encoded data removed]",
      "text/plain": [
       "<Figure size 432x288 with 1 Axes>"
      ]
     },
     "metadata": {
      "needs_background": "light"
     },
     "output_type": "display_data"
    }
   ],
   "source": [
    "# WORKING EXAMPLE OF MAXWELL FIT \n",
    "\n",
    "maxwell = stats.maxwell\n",
    "data = maxwell.rvs(loc=0, scale=5, size=10000)\n",
    "\n",
    "params = maxwell.fit(data)\n",
    "print(params)\n",
    "# (0, 4.9808603062591041)\n",
    "\n",
    "#plt.hist(data, bins=20)\n",
    "xspace = np.linspace(0, 25, 100)\n",
    "plt.plot(xspace, maxwell.pdf(xspace,*params), lw=3)\n",
    "weights = np.ones_like(data) / len(data)\n",
    "plt.hist(data,density=True) #weights=weights)\n",
    "plt.show()"
   ]
  },
  {
   "cell_type": "code",
   "execution_count": null,
   "metadata": {},
   "outputs": [],
   "source": []
  },
  {
   "cell_type": "code",
   "execution_count": null,
   "metadata": {},
   "outputs": [],
   "source": []
  },
  {
   "cell_type": "code",
   "execution_count": 106,
   "metadata": {},
   "outputs": [
    {
     "name": "stdout",
     "output_type": "stream",
     "text": [
      "69.79096445684834\n",
      "111.37026604732166\n",
      "195.62973395267835\n",
      "----------Now test--------------------\n",
      "307.02715752362866\n",
      "46.9983367625042\n"
     ]
    }
   ],
   "source": [
    "σ = 47\n",
    "μ = 307\n",
    "\n",
    "a = σ * np.sqrt(np.pi/(3.0*np.pi - 8.0))\n",
    "print(a)\n",
    "\n",
    "m = 2.0*a*np.sqrt(2.0/np.pi)\n",
    "print(m) # as if loc=0\n",
    "\n",
    "loc = μ - m\n",
    "print(loc)\n",
    "\n",
    "print(\"----------Now test--------------------\")\n",
    "\n",
    "# sampling\n",
    "q = maxwell.rvs(loc=loc, scale=a, size=100000)\n",
    "\n",
    "print(np.mean(q))\n",
    "print(np.std(q))"
   ]
  },
  {
   "cell_type": "code",
   "execution_count": 107,
   "metadata": {},
   "outputs": [],
   "source": [
    "import matplotlib.pyplot as plt\n",
    "import math\n",
    "from scipy.stats import norm\n",
    "import random\n",
    "import numpy as np\n",
    "import scipy.optimize\n",
    "from scipy.stats import maxwell"
   ]
  },
  {
   "cell_type": "code",
   "execution_count": 108,
   "metadata": {},
   "outputs": [
    {
     "data": {
      "text/plain": [
       "<matplotlib.legend.Legend at 0x7ff6bab374c0>"
      ]
     },
     "execution_count": 108,
     "metadata": {},
     "output_type": "execute_result"
    },
    {
     "data": {
      "image/png": "[encoded data removed]",
      "text/plain": [
       "<Figure size 432x288 with 1 Axes>"
      ]
     },
     "metadata": {
      "needs_background": "light"
     },
     "output_type": "display_data"
    }
   ],
   "source": [
    "samplesize = 100000\n",
    "\n",
    "mean = 307\n",
    "sigma = 47\n",
    "loc = 175 #my guess\n",
    "a_value = np.sqrt((sigma**2 * math.pi)/(3*math.pi - 8)) #calculated based on wiki description\n",
    "\n",
    "fig, axs = plt.subplots(1)\n",
    "v_2d = maxwell.rvs(loc, a_value, size=samplesize) #array corresponding to 2D proper motion obtained from Hubbs\n",
    "mean, var, skew, kurt = maxwell.stats(moments='mvsk')\n",
    "\n",
    "N, bins, patches = plt.hist(v_2d, bins=100, density=True, alpha=0.5, histtype='bar', ec='black')\n",
    "maxx = np.linspace(min(v_2d), max(v_2d), samplesize)\n",
    "\n",
    "axs.plot(maxx, maxwell.pdf(maxx, loc, a_value), lw=2, label= r'$\\mathdefault{\\mu}$ = '+'{:0.1f}'.format(mean)+r' , '+r'$\\mathdefault{\\sigma}$ = '+'{:0.1f}'.format(sigma))\n",
    "\n",
    "axs.set(xlabel=r'2-D Maxwellian speed (km s$^{-1}$)')\n",
    "axs.set(ylabel='Frequency')\n",
    "plt.legend(loc='upper right')"
   ]
  },
  {
   "cell_type": "code",
   "execution_count": null,
   "metadata": {},
   "outputs": [],
   "source": []
  },
  {
   "cell_type": "code",
   "execution_count": 11,
   "metadata": {},
   "outputs": [],
   "source": [
    "alpha = 30"
   ]
  },
  {
   "cell_type": "code",
   "execution_count": 12,
   "metadata": {},
   "outputs": [],
   "source": [
    "f = open(f\"activityTimes2D{alpha}.txt\",\"r\")\n",
    "lines = f.readlines()"
   ]
  },
  {
   "cell_type": "code",
   "execution_count": 13,
   "metadata": {},
   "outputs": [],
   "source": [
    "activityTimes=[]\n",
    "for item in lines:\n",
    "    activityTimes.append(ast.literal_eval(item))"
   ]
  },
  {
   "cell_type": "code",
   "execution_count": 14,
   "metadata": {},
   "outputs": [
    {
     "data": {
      "text/plain": [
       "239"
      ]
     },
     "execution_count": 14,
     "metadata": {},
     "output_type": "execute_result"
    }
   ],
   "source": [
    "len(activityTimes)"
   ]
  },
  {
   "cell_type": "code",
   "execution_count": 15,
   "metadata": {},
   "outputs": [
    {
     "data": {
      "text/plain": [
       "15"
      ]
     },
     "execution_count": 15,
     "metadata": {},
     "output_type": "execute_result"
    }
   ],
   "source": [
    "round(math.sqrt(len(activityTimes)))"
   ]
  },
  {
   "cell_type": "code",
   "execution_count": 20,
   "metadata": {},
   "outputs": [
    {
     "data": {
      "image/png": "[encoded data removed]",
      "text/plain": [
       "<Figure size 432x288 with 1 Axes>"
      ]
     },
     "metadata": {
      "needs_background": "light"
     },
     "output_type": "display_data"
    }
   ],
   "source": [
    "hist, bins, patches = plt.hist(activityTimes,bins=15);"
   ]
  },
  {
   "cell_type": "code",
   "execution_count": 25,
   "metadata": {},
   "outputs": [
    {
     "data": {
      "image/png": "[encoded data removed]",
      "text/plain": [
       "<Figure size 432x288 with 1 Axes>"
      ]
     },
     "metadata": {
      "needs_background": "light"
     },
     "output_type": "display_data"
    }
   ],
   "source": [
    "hist, bins, patches = plt.hist(activityTimes,bins=15);\n",
    "plt.xscale('log')\n",
    "plt.yscale('log')"
   ]
  },
  {
   "cell_type": "code",
   "execution_count": null,
   "metadata": {},
   "outputs": [],
   "source": []
  },
  {
   "cell_type": "code",
   "execution_count": 2,
   "metadata": {},
   "outputs": [],
   "source": [
    "alpha = 50"
   ]
  },
  {
   "cell_type": "code",
   "execution_count": 3,
   "metadata": {},
   "outputs": [],
   "source": [
    "f = open(f\"activityDifference2D{alpha}.txt\",\"r\")\n",
    "lines = f.readlines()"
   ]
  },
  {
   "cell_type": "code",
   "execution_count": 4,
   "metadata": {},
   "outputs": [],
   "source": [
    "activityTimes=[]\n",
    "for item in lines:\n",
    "    activityTimes.append(ast.literal_eval(item))"
   ]
  },
  {
   "cell_type": "code",
   "execution_count": 5,
   "metadata": {},
   "outputs": [
    {
     "data": {
      "text/plain": [
       "2533"
      ]
     },
     "execution_count": 5,
     "metadata": {},
     "output_type": "execute_result"
    }
   ],
   "source": [
    "len(activityTimes)"
   ]
  },
  {
   "cell_type": "code",
   "execution_count": 6,
   "metadata": {},
   "outputs": [
    {
     "data": {
      "text/plain": [
       "50"
      ]
     },
     "execution_count": 6,
     "metadata": {},
     "output_type": "execute_result"
    }
   ],
   "source": [
    "round(math.sqrt(len(activityTimes)))"
   ]
  },
  {
   "cell_type": "code",
   "execution_count": 7,
   "metadata": {},
   "outputs": [
    {
     "data": {
      "image/png": "[encoded data removed]",
      "text/plain": [
       "<Figure size 432x288 with 1 Axes>"
      ]
     },
     "metadata": {
      "needs_background": "light"
     },
     "output_type": "display_data"
    }
   ],
   "source": [
    "hist, bins, patches = plt.hist(activityTimes,bins=50);"
   ]
  },
  {
   "cell_type": "code",
   "execution_count": 8,
   "metadata": {},
   "outputs": [
    {
     "data": {
      "image/png": "[encoded data removed]",
      "text/plain": [
       "<Figure size 432x288 with 1 Axes>"
      ]
     },
     "metadata": {
      "needs_background": "light"
     },
     "output_type": "display_data"
    }
   ],
   "source": [
    "hist, bins, patches = plt.hist(activityTimes,bins=50);\n",
    "plt.xscale('log')\n",
    "plt.yscale('log')"
   ]
  },
  {
   "cell_type": "code",
   "execution_count": null,
   "metadata": {},
   "outputs": [],
   "source": []
  }
 ],
 "metadata": {
  "kernelspec": {
   "display_name": "Python 3",
   "language": "python",
   "name": "python3"
  },
  "language_info": {
   "codemirror_mode": {
    "name": "ipython",
    "version": 3
   },
   "file_extension": ".py",
   "mimetype": "text/x-python",
   "name": "python",
   "nbconvert_exporter": "python",
   "pygments_lexer": "ipython3",
   "version": "3.8.3"
  }
 },
 "nbformat": 4,
 "nbformat_minor": 4
}
